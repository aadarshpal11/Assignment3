{
 "cells": [
  {
   "cell_type": "code",
   "execution_count": 1,
   "id": "9153fc66-4af6-4abd-86b2-0e0d5bd5de67",
   "metadata": {},
   "outputs": [],
   "source": [
    "#1. Write a code to reverse a string.\n",
    "s = \"Aadarsh\""
   ]
  },
  {
   "cell_type": "code",
   "execution_count": 2,
   "id": "985722b2-9992-4e4a-a7e2-c6f9721e7e44",
   "metadata": {},
   "outputs": [],
   "source": [
    "reverse_s = s[::-1]"
   ]
  },
  {
   "cell_type": "code",
   "execution_count": 3,
   "id": "8b8220ab-e0f7-40d3-9977-339561b74e10",
   "metadata": {},
   "outputs": [
    {
     "data": {
      "text/plain": [
       "'hsradaA'"
      ]
     },
     "execution_count": 3,
     "metadata": {},
     "output_type": "execute_result"
    }
   ],
   "source": [
    "reverse_s"
   ]
  },
  {
   "cell_type": "code",
   "execution_count": null,
   "id": "01d33624-f328-4278-9fe8-323f3b73102c",
   "metadata": {},
   "outputs": [],
   "source": []
  },
  {
   "cell_type": "code",
   "execution_count": 4,
   "id": "09206d29-aca1-4221-82cf-cf159f760d4a",
   "metadata": {},
   "outputs": [
    {
     "name": "stdout",
     "output_type": "stream",
     "text": [
      "3\n"
     ]
    }
   ],
   "source": [
    "#2. Write a code to count the number of vowel in a string.\n",
    "\n",
    "s = \"Aadarsh\"\n",
    "count = 0\n",
    "v = (\"a\",\"e\",\"i\",\"o\",\"u\",\"A\",\"E\",\"I\",\"O\",\"U\")\n",
    "for char in s:\n",
    "    if char in v:\n",
    "        count = count+1\n",
    "print(count)"
   ]
  },
  {
   "cell_type": "code",
   "execution_count": null,
   "id": "5bc91120-9e49-4206-9702-bf2ddc12617d",
   "metadata": {},
   "outputs": [],
   "source": []
  },
  {
   "cell_type": "code",
   "execution_count": 5,
   "id": "7b80877b-3d61-44b5-920d-cabd4c1dd09c",
   "metadata": {},
   "outputs": [
    {
     "name": "stdout",
     "output_type": "stream",
     "text": [
      "Not Palindrome\n"
     ]
    }
   ],
   "source": [
    "#3.Write a code to check if a given string is a palindrome or not.\n",
    "\n",
    "if reverse_s == s:\n",
    "    print(\"Palindrome\")\n",
    "else:\n",
    "    print(\"Not Palindrome\")"
   ]
  },
  {
   "cell_type": "code",
   "execution_count": 6,
   "id": "2f8ee2ee-c8b5-4090-b1be-7eecdf13005d",
   "metadata": {},
   "outputs": [],
   "source": [
    "a = \"madam\""
   ]
  },
  {
   "cell_type": "code",
   "execution_count": 7,
   "id": "b15aca99-8da9-4bb4-8e3e-69beb96b1e02",
   "metadata": {},
   "outputs": [
    {
     "data": {
      "text/plain": [
       "'madam'"
      ]
     },
     "execution_count": 7,
     "metadata": {},
     "output_type": "execute_result"
    }
   ],
   "source": [
    "reverse_a = a[::-1]\n",
    "reverse_a"
   ]
  },
  {
   "cell_type": "code",
   "execution_count": 8,
   "id": "84a723dd-78d7-43e0-91fb-9d418e38a0f0",
   "metadata": {},
   "outputs": [
    {
     "name": "stdout",
     "output_type": "stream",
     "text": [
      "Palindrome\n"
     ]
    }
   ],
   "source": [
    "if reverse_a == a:\n",
    "    print (\"Palindrome\")\n",
    "else:\n",
    "    print(\"Not Palindrome\")"
   ]
  },
  {
   "cell_type": "code",
   "execution_count": null,
   "id": "c560645a-48e4-4b83-b662-adf89a3b51b2",
   "metadata": {},
   "outputs": [],
   "source": []
  },
  {
   "cell_type": "code",
   "execution_count": 10,
   "id": "7a81d448-a392-4f63-b778-6e64345a5950",
   "metadata": {},
   "outputs": [
    {
     "name": "stdout",
     "output_type": "stream",
     "text": [
      "Anagrams\n"
     ]
    }
   ],
   "source": [
    "#4. Write a code to check if two strings are anagrams of each other\n",
    "\n",
    "word1 = \"host\"\n",
    "word2 = \"shot\"\n",
    "\n",
    "if (sorted(word1) == sorted(word2)):\n",
    "    print (\"Anagrams\")\n",
    "else:\n",
    "    print(\"Not anagrams\")"
   ]
  },
  {
   "cell_type": "code",
   "execution_count": null,
   "id": "ef6259c6-805e-4eef-9eb1-f3b9daf8dcf7",
   "metadata": {},
   "outputs": [],
   "source": []
  },
  {
   "cell_type": "code",
   "execution_count": 11,
   "id": "a7a404ca-a267-4c05-9fb5-4c7997a2b30a",
   "metadata": {},
   "outputs": [
    {
     "name": "stdout",
     "output_type": "stream",
     "text": [
      "Substring occurs 3 times\n"
     ]
    }
   ],
   "source": [
    "#5. Write a code to find all occurrences of a given substring within another string.\n",
    "\n",
    "string = \"Write a code to find all occurrences of a given substring within another string\"\n",
    "substring = \"ri\"\n",
    "\n",
    "count = string.count(substring)\n",
    "print (\"Substring occurs %d times\" %count)"
   ]
  },
  {
   "cell_type": "code",
   "execution_count": null,
   "id": "c5a0edb1-2c2e-4891-9e71-807c1cce2d51",
   "metadata": {},
   "outputs": [],
   "source": []
  },
  {
   "cell_type": "code",
   "execution_count": 13,
   "id": "bbd93de9-9cb7-4f03-8535-1d30cf5614c1",
   "metadata": {},
   "outputs": [
    {
     "name": "stdout",
     "output_type": "stream",
     "text": [
      " 1A2B3C4D5E\n"
     ]
    }
   ],
   "source": [
    "#6. write a code to perform basic string compression using the counts of repeated characters.\n",
    "\n",
    "stri = \"ABBCCCDDDDEEEEE\"\n",
    "character = stri[0]\n",
    "result = \" \"\n",
    "count = 0\n",
    "stri = stri + \" \"\n",
    "for x in stri:\n",
    "    if x == character:\n",
    "        count += 1\n",
    "    else:\n",
    "        result = result + str(count) + str(character)\n",
    "        character = x\n",
    "        count = 1\n",
    "print (result)"
   ]
  },
  {
   "cell_type": "code",
   "execution_count": null,
   "id": "7cb7afe0-e96d-4716-a07f-298fae671427",
   "metadata": {},
   "outputs": [],
   "source": []
  },
  {
   "cell_type": "code",
   "execution_count": 14,
   "id": "3972b382-76e8-422c-837f-8a4d16cb919a",
   "metadata": {},
   "outputs": [
    {
     "name": "stdout",
     "output_type": "stream",
     "text": [
      "True\n"
     ]
    }
   ],
   "source": [
    "#7. write a code to determine if a string has all unique character.\n",
    "\n",
    "def check_unique(string):\n",
    "    unique_characters = []\n",
    "    for character in string:\n",
    "        if character in unique_characters:\n",
    "            return False\n",
    "        else:\n",
    "            unique_characters.append(character)\n",
    "    return True\n",
    "test = \"abcd\"\n",
    "print(check_unique(test))"
   ]
  },
  {
   "cell_type": "code",
   "execution_count": 15,
   "id": "defd1663-cd57-4234-be09-75d24142f05b",
   "metadata": {},
   "outputs": [
    {
     "name": "stdout",
     "output_type": "stream",
     "text": [
      "False\n"
     ]
    }
   ],
   "source": [
    "def check_unique(string):\n",
    "    unique_characters = []\n",
    "    for character in string:\n",
    "        if character in unique_characters:\n",
    "            return False\n",
    "        else:\n",
    "            unique_characters.append(character)\n",
    "    return True\n",
    "test = \"Aadarsh\"\n",
    "print(check_unique(test))"
   ]
  },
  {
   "cell_type": "code",
   "execution_count": null,
   "id": "7f195098-0d75-43f9-948b-d3465c8c95b8",
   "metadata": {},
   "outputs": [],
   "source": []
  },
  {
   "cell_type": "code",
   "execution_count": 16,
   "id": "d829487b-45d8-47ee-849e-cdcb37c45316",
   "metadata": {},
   "outputs": [
    {
     "name": "stdout",
     "output_type": "stream",
     "text": [
      "AADARSH\n",
      "aadarsh\n"
     ]
    }
   ],
   "source": [
    "#8. write a code to covert a given string to uppercase or lowercase.\n",
    "\n",
    "string = \"Aadarsh\"\n",
    "print(string.upper())\n",
    "print(string.lower())"
   ]
  },
  {
   "cell_type": "code",
   "execution_count": null,
   "id": "2921faa1-530e-4ae9-a264-944b43b4e546",
   "metadata": {},
   "outputs": [],
   "source": []
  },
  {
   "cell_type": "code",
   "execution_count": 17,
   "id": "ffd13e77-1a17-4abf-a12c-1a1211491dcb",
   "metadata": {},
   "outputs": [
    {
     "name": "stdout",
     "output_type": "stream",
     "text": [
      "Total words: 4\n"
     ]
    }
   ],
   "source": [
    "#9. write a code to count the number of words in a string.\n",
    "\n",
    "s = \"I am the best\"\n",
    "words = s.split()\n",
    "count = len(words)\n",
    "print(\"Total words:\" , count)"
   ]
  },
  {
   "cell_type": "code",
   "execution_count": null,
   "id": "a8524969-1343-4592-9c10-9030e0b5e53f",
   "metadata": {},
   "outputs": [],
   "source": []
  },
  {
   "cell_type": "code",
   "execution_count": 20,
   "id": "02c91bb3-5205-4e24-a5fb-c1aa148c513b",
   "metadata": {},
   "outputs": [
    {
     "name": "stdout",
     "output_type": "stream",
     "text": [
      "Aadarsh Pal\n"
     ]
    }
   ],
   "source": [
    "#10. write a code to concatenate two strinngs without using the + operator.\n",
    "\n",
    "string1 = \"Aadarsh\"\n",
    "string2 = \" Pal\"\n",
    "\n",
    "def concatenate_strings(str1, str2):\n",
    "    return ''.join([str1, str2])\n",
    "result = concatenate_strings(string1,string2)\n",
    "print(result)"
   ]
  },
  {
   "cell_type": "code",
   "execution_count": null,
   "id": "3211dc76-9524-4c83-940e-fe607ef82e82",
   "metadata": {},
   "outputs": [],
   "source": []
  },
  {
   "cell_type": "code",
   "execution_count": 21,
   "id": "847240e1-c1eb-4b9b-bfa3-944dc0e195c9",
   "metadata": {},
   "outputs": [
    {
     "name": "stdout",
     "output_type": "stream",
     "text": [
      "['Aadarsh', 1, 2, 3, 6, 5, 7, 8, 'Aadarsh']\n"
     ]
    }
   ],
   "source": [
    "#11. write a code to remove all occurrences of a specific element from a list.\n",
    "\n",
    "a = [\"Aadarsh\",1,2,3,4,4,4,6,5,4,7,8,4,\"Aadarsh\"]\n",
    "frequency = a.count(4)\n",
    "for i in range(frequency):\n",
    "    a.remove(4)\n",
    "print(a)    "
   ]
  },
  {
   "cell_type": "code",
   "execution_count": 22,
   "id": "ba640339-7d0c-4dc8-80c0-ee5fb3c4d3b9",
   "metadata": {},
   "outputs": [
    {
     "name": "stdout",
     "output_type": "stream",
     "text": [
      "[1, 2, 3, 4, 4, 4, 6, 5, 4, 7, 8, 4]\n"
     ]
    }
   ],
   "source": [
    "a = [\"Aadarsh\",1,2,3,4,4,4,6,5,4,7,8,4,\"Aadarsh\"]\n",
    "frequency = a.count(\"Aadarsh\")\n",
    "for i in range(frequency):\n",
    "    a.remove(\"Aadarsh\")\n",
    "print(a)"
   ]
  },
  {
   "cell_type": "code",
   "execution_count": null,
   "id": "6b946b5b-cbf9-405e-a0a0-f10bfa54b7ea",
   "metadata": {},
   "outputs": [],
   "source": []
  },
  {
   "cell_type": "code",
   "execution_count": 23,
   "id": "94755798-b085-4b16-b3f9-6efd79f8998d",
   "metadata": {},
   "outputs": [
    {
     "name": "stdout",
     "output_type": "stream",
     "text": [
      "[1, 4, 5, 600, 39, 67, 899, 1076, 548980]\n",
      "second largest number: 1076\n"
     ]
    }
   ],
   "source": [
    "#12. Implement a code to find the second largest number in a given list of integers\n",
    "\n",
    "l = [1,4,5,600,39,67,899,1076,548980]\n",
    "l.sort\n",
    "print(l)\n",
    "second_largest_number = l[-2]\n",
    "print(\"second largest number:\", second_largest_number)"
   ]
  },
  {
   "cell_type": "code",
   "execution_count": null,
   "id": "5f16e89e-e157-4b39-9300-fc0c4d7d0f3b",
   "metadata": {},
   "outputs": [],
   "source": []
  },
  {
   "cell_type": "code",
   "execution_count": 24,
   "id": "06565664-33e2-4681-8a27-d5c291d69915",
   "metadata": {},
   "outputs": [
    {
     "name": "stdout",
     "output_type": "stream",
     "text": [
      "{1: 4, 2: 4, 4: 2, 5: 4, 6: 2, 7: 1, 8: 1, 3: 1, 9: 1}\n"
     ]
    }
   ],
   "source": [
    "#13. Create a code to count the occurrence of each element in a list and return a dictionary with elements as keys and their counts as values. \n",
    "\n",
    "\n",
    "l = [1,2,4,2,1,5,6,7,8,1,2,3,2,1,6,9,5,5,5,4]\n",
    "def counter(l):\n",
    "    freq = {}\n",
    "    for i in l:\n",
    "        freq[i] = freq.get(i,0)+1\n",
    "    return freq\n",
    "\n",
    "print(counter([1,2,4,2,1,5,6,7,8,1,2,3,2,1,6,9,5,5,5,4]))"
   ]
  },
  {
   "cell_type": "code",
   "execution_count": null,
   "id": "f172d021-7c15-4e6a-bdec-8de30ef0ce03",
   "metadata": {},
   "outputs": [],
   "source": []
  },
  {
   "cell_type": "code",
   "execution_count": 25,
   "id": "ddab4028-1c2f-4147-82ab-0d74c342f097",
   "metadata": {},
   "outputs": [
    {
     "name": "stdout",
     "output_type": "stream",
     "text": [
      "[90, 80, 70, 60, 50, 40, 30, 20, 10]\n"
     ]
    }
   ],
   "source": [
    "#14. write a code to reversw a list in-place without using any built-in reverse functions.\n",
    "\n",
    "lst = [10,20,30,40,50,60,70,80,90]\n",
    "print(lst[::-1])"
   ]
  },
  {
   "cell_type": "code",
   "execution_count": null,
   "id": "c59109f2-61bc-4bfa-a26d-91c20064ffa9",
   "metadata": {},
   "outputs": [],
   "source": []
  },
  {
   "cell_type": "code",
   "execution_count": 26,
   "id": "dce86733-6a85-41d2-ada7-f3d7fde95892",
   "metadata": {},
   "outputs": [
    {
     "data": {
      "text/plain": [
       "[1, 2, 3, 'Aadarsh']"
      ]
     },
     "execution_count": 26,
     "metadata": {},
     "output_type": "execute_result"
    }
   ],
   "source": [
    "#15. implement a code to find and remove duplicates from a list while preserving the original elements.\n",
    "\n",
    "a = [\"Aadarsh\",1,3,3,3,2,1,1,1,\"Aadarsh\"]\n",
    "list(set(a))"
   ]
  },
  {
   "cell_type": "code",
   "execution_count": null,
   "id": "45181dc6-77db-42e7-8527-f6488e4d4b5a",
   "metadata": {},
   "outputs": [],
   "source": []
  },
  {
   "cell_type": "code",
   "execution_count": 27,
   "id": "86445742-f7ae-4205-96a9-316c3a84cdd3",
   "metadata": {},
   "outputs": [
    {
     "name": "stdout",
     "output_type": "stream",
     "text": [
      "Original list: [1, 3, 5, 2, 6, 7, 8, 6, 9]\n",
      "Sorted in ascending order: [1, 2, 3, 5, 6, 6, 7, 8, 9]\n",
      "Sorted in descending order: [9, 8, 7, 6, 6, 5, 3, 2, 1]\n"
     ]
    }
   ],
   "source": [
    "#16. Create a code to check if a given list is sorted (either in ascending or descending order) or not.\n",
    "\n",
    "l = [1,3,5,2,6,7,8,6,9]\n",
    "print(\"Original list:\",l)\n",
    "l.sort()\n",
    "print(\"Sorted in ascending order:\",l)\n",
    "l.sort(reverse = True)\n",
    "print(\"Sorted in descending order:\",l)"
   ]
  },
  {
   "cell_type": "code",
   "execution_count": null,
   "id": "4dec9c0c-262d-4818-9430-e6f6c4f06982",
   "metadata": {},
   "outputs": [],
   "source": []
  },
  {
   "cell_type": "code",
   "execution_count": 28,
   "id": "c5aebdd3-cb2c-4e3a-b57e-418a51a7e5c6",
   "metadata": {},
   "outputs": [
    {
     "name": "stdout",
     "output_type": "stream",
     "text": [
      "Merge list: ['Aadarsh', 'Gaurav', 'Hitesh', 'Karan', 'Ladli', 'Pooja', 'Ritesh', 'Saujanya']\n"
     ]
    }
   ],
   "source": [
    "#17. Write a code to merge two sorted list into a single sorted list.\n",
    "\n",
    "a = [\"Aadarsh\",\"Hitesh\",\"Ritesh\",\"Gaurav\",\"Karan\"]\n",
    "a.sort()\n",
    "b = [\"Pooja\",\"Saujanya\",\"Ladli\"]\n",
    "b.sort()\n",
    "mg = a+b\n",
    "mg.sort()\n",
    "print(\"Merge list:\",mg)"
   ]
  },
  {
   "cell_type": "code",
   "execution_count": null,
   "id": "654950d9-e14b-41f1-8d32-90d27f83f46d",
   "metadata": {},
   "outputs": [],
   "source": []
  },
  {
   "cell_type": "code",
   "execution_count": 29,
   "id": "23e6cb00-de36-4dbe-9206-22c1bc986f84",
   "metadata": {},
   "outputs": [
    {
     "name": "stdout",
     "output_type": "stream",
     "text": [
      "COMMON ELEMENTS: [4, 5]\n"
     ]
    }
   ],
   "source": [
    "#18. Implement a code to find the interaction of two given lists.\n",
    "\n",
    "l1 = [1,2,3,4,5]\n",
    "l2 = [4,5,6,7,8]\n",
    "l3 = []\n",
    "\n",
    "for i in l1:\n",
    "    for j in l2:\n",
    "        if i == j:\n",
    "            l3.append(i)\n",
    "print(\"COMMON ELEMENTS:\",l3)           "
   ]
  },
  {
   "cell_type": "code",
   "execution_count": null,
   "id": "461fe5ee-e652-48f4-866c-59a2b9666e59",
   "metadata": {},
   "outputs": [],
   "source": []
  },
  {
   "cell_type": "code",
   "execution_count": 30,
   "id": "3ebfb6af-5599-45c6-82c7-668e1dec9760",
   "metadata": {},
   "outputs": [
    {
     "name": "stdout",
     "output_type": "stream",
     "text": [
      "{1, 2, 3, 4, 5, 6, 7, 8}\n"
     ]
    }
   ],
   "source": [
    "#19. Create a code to find the union of two lists without duplicates.\n",
    "\n",
    "l1 = [1,2,3,4,5]\n",
    "l2 = [4,5,6,7,8]\n",
    "\n",
    "A = set(l1 + l2)\n",
    "print(A)"
   ]
  },
  {
   "cell_type": "code",
   "execution_count": null,
   "id": "1616e021-9c4d-4e71-b317-bb7bc336c1db",
   "metadata": {},
   "outputs": [],
   "source": []
  },
  {
   "cell_type": "code",
   "execution_count": 31,
   "id": "e0c9c373-7362-4218-8d53-3a4e63b100c0",
   "metadata": {},
   "outputs": [
    {
     "name": "stdout",
     "output_type": "stream",
     "text": [
      "['Ritesh', 'Aadarsh', 'Gaurav', 'Hitesh', 'Karan']\n"
     ]
    }
   ],
   "source": [
    "#20 Write a code to shuffle a given list randomly without using any built-in shuffle functions.\n",
    "\n",
    "import random\n",
    "a = [\"Aadarsh\",\"Hitesh\",\"Ritesh\",\"Gaurav\",\"Karan\"]\n",
    "print(random.sample(a,len(a)))"
   ]
  },
  {
   "cell_type": "code",
   "execution_count": null,
   "id": "13ecc271-6350-488c-9937-dc0c185738ad",
   "metadata": {},
   "outputs": [],
   "source": []
  },
  {
   "cell_type": "code",
   "execution_count": 32,
   "id": "89cc959f-5144-4945-8f44-28d5dfc85966",
   "metadata": {},
   "outputs": [
    {
     "name": "stdout",
     "output_type": "stream",
     "text": [
      "(3, 4, 5)\n"
     ]
    }
   ],
   "source": [
    "#21 Write a code that taken two tuples as input and return a new tuple containing elements that are common to both input tuples.\n",
    "\n",
    "def common_elements(tuple1, tuple2):\n",
    "    set1 = set(tuple1)\n",
    "    set2 = set(tuple2)\n",
    "    common_set = set1 & set2\n",
    "    return tuple(common_set)\n",
    "\n",
    "tuple1 = (1, 2, 3, 4, 5)\n",
    "tuple2 = (3, 4, 5, 6, 7)\n",
    "print(common_elements(tuple1, tuple2))\n"
   ]
  },
  {
   "cell_type": "code",
   "execution_count": null,
   "id": "3ed459cd-f6ba-4a51-9e21-e49b79a98629",
   "metadata": {},
   "outputs": [],
   "source": []
  },
  {
   "cell_type": "code",
   "execution_count": 33,
   "id": "46f40342-1034-4046-8dfa-9086b8ede978",
   "metadata": {},
   "outputs": [
    {
     "name": "stdin",
     "output_type": "stream",
     "text": [
      "Enter the first set of integers separated by comma:  1,2,3,4,6,7,8\n",
      "Enter the second set of integers separated by commas:  3,2,4,6,9\n"
     ]
    },
    {
     "name": "stdout",
     "output_type": "stream",
     "text": [
      "The intersection of the two sets is: {2, 3, 4, 6}\n"
     ]
    }
   ],
   "source": [
    "#22 Create a code that prompts the user to enter two sets of integers separated by commas. Then,print the intersection of these two sets.\n",
    "\n",
    "def set_from_input(prompt):\n",
    "    input_str = input(prompt)\n",
    "    input_list = [int(item.strip()) for item in input_str.split(',')]\n",
    "    return set(input_list)\n",
    "\n",
    "def main():\n",
    "    set1 = set_from_input(\"Enter the first set of integers separated by comma: \")\n",
    "    set2 = set_from_input(\"Enter the second set of integers separated by commas: \")\n",
    "    intersection_set = set1 & set2\n",
    "    \n",
    "    print(\"The intersection of the two sets is:\", intersection_set)\n",
    "main()    "
   ]
  },
  {
   "cell_type": "code",
   "execution_count": null,
   "id": "e9afac78-3d70-42a5-9210-e2e92826e6d2",
   "metadata": {},
   "outputs": [],
   "source": []
  },
  {
   "cell_type": "code",
   "execution_count": 34,
   "id": "0db5e3bc-4b88-4729-8f20-9f4961651a96",
   "metadata": {},
   "outputs": [
    {
     "name": "stdout",
     "output_type": "stream",
     "text": [
      "(1, 2, 3, 4, 5, 6, 7, 8)\n"
     ]
    }
   ],
   "source": [
    "#23 Write a code to concatenate two tuples. The function should take two tuples as input and return a new tuple containing elements from both input tuples.\n",
    "\n",
    "tup1 = (1,2,3,4)\n",
    "tup2 = (5,6,7,8)\n",
    "def conc_tup(tup1,tup2):\n",
    "    return tup1+tup2\n",
    "\n",
    "print(conc_tup(tup1,tup2))"
   ]
  },
  {
   "cell_type": "code",
   "execution_count": null,
   "id": "e238238c-22c5-44c0-878b-78168c7e14b5",
   "metadata": {},
   "outputs": [],
   "source": []
  },
  {
   "cell_type": "code",
   "execution_count": 35,
   "id": "34b22e2a-ffa6-4481-973b-df26df89ab44",
   "metadata": {},
   "outputs": [
    {
     "name": "stdin",
     "output_type": "stream",
     "text": [
      "Enter the first set :  1,2,3,4,5,6\n",
      "Enter the second set :  2,3,4,5,8\n"
     ]
    },
    {
     "name": "stdout",
     "output_type": "stream",
     "text": [
      "The elements that are present in the first set but not in the second set are: {'6', '1'}\n"
     ]
    }
   ],
   "source": [
    "#24 Develop a code that prompts the user to input two sets of strings.Then ,print the elements that are present in the first set but not in the second set.\n",
    "\n",
    "def set_from_input(prompt):\n",
    "    input_str = input(prompt)\n",
    "    input_list = [item.strip() for item in input_str.split(',')]\n",
    "    return set(input_list)\n",
    "\n",
    "def main():\n",
    "    set1 = set_from_input(\"Enter the first set : \")\n",
    "    set2 = set_from_input(\"Enter the second set : \")\n",
    "    difference_set = set1 - set2\n",
    "    \n",
    "    print(\"The elements that are present in the first set but not in the second set are:\", difference_set)\n",
    "main()    "
   ]
  },
  {
   "cell_type": "code",
   "execution_count": null,
   "id": "94a66062-77db-4c6a-810a-6954d0cbe726",
   "metadata": {},
   "outputs": [],
   "source": []
  },
  {
   "cell_type": "code",
   "execution_count": 36,
   "id": "1095e9a6-9638-4665-a495-03b15dd17207",
   "metadata": {},
   "outputs": [
    {
     "name": "stdout",
     "output_type": "stream",
     "text": [
      "(3, 4, 5, 6)\n"
     ]
    }
   ],
   "source": [
    "#25 Create a code that takes a tuple and two integers as input. The function should returnn a new tuple containing elements from the original tuple within the specified range of indice.\n",
    "\n",
    "og_tup = (1,2,3,4,5,6,7,8)\n",
    "start_index = 2\n",
    "end_index = 6\n",
    "def slice_tuple(input_tuple, start_index, end_index):\n",
    "    return input_tuple[start_index:end_index]\n",
    "print(slice_tuple(og_tup,start_index,end_index))"
   ]
  },
  {
   "cell_type": "code",
   "execution_count": null,
   "id": "4f44fa7e-f4aa-40bb-9321-620ca8cb1e5c",
   "metadata": {},
   "outputs": [],
   "source": []
  },
  {
   "cell_type": "code",
   "execution_count": 37,
   "id": "9fa12b72-b964-446d-8383-e73445ab42e4",
   "metadata": {},
   "outputs": [
    {
     "name": "stdin",
     "output_type": "stream",
     "text": [
      "Enter the first set of integers separated by commas:   1,2,3,4,5\n",
      "Enter the second set of integers separated by commas:  6,7,8,9\n"
     ]
    },
    {
     "name": "stdout",
     "output_type": "stream",
     "text": [
      "union of sets are: {1, 2, 3, 4, 5, 6, 7, 8, 9}\n"
     ]
    }
   ],
   "source": [
    "#26 Write a code that prompts the user to input two sets of characters.Then,print the union of these two sets\n",
    "\n",
    "def set_from_input(prompt):\n",
    "    input_str = input(prompt)\n",
    "    input_list = [int(item.strip()) for item in input_str.split(',')]\n",
    "    return set(input_list)\n",
    "\n",
    "def main():\n",
    "    set1 = set_from_input(\"Enter the first set of integers separated by commas: \")\n",
    "    set2 = set_from_input(\"Enter the second set of integers separated by commas: \")\n",
    "    union_set = set1 | set2\n",
    "    \n",
    "    print(\"union of sets are:\", union_set)\n",
    "main()"
   ]
  },
  {
   "cell_type": "code",
   "execution_count": null,
   "id": "a47b4b72-9287-4724-8fc9-39da6220a4db",
   "metadata": {},
   "outputs": [],
   "source": []
  },
  {
   "cell_type": "code",
   "execution_count": 38,
   "id": "ffede662-88b6-4947-af63-21e87c25c608",
   "metadata": {},
   "outputs": [
    {
     "name": "stdout",
     "output_type": "stream",
     "text": [
      "Maximum value: 1987, Minimum value: 1\n"
     ]
    }
   ],
   "source": [
    "#27 Devlop a code that takes a tuple of integers as input. The function should return the maximum and minimum values from the tuple unpacking\n",
    "\n",
    "def find_max_min(input_tuple):\n",
    "    max_value = max(input_tuple)\n",
    "    min_value = min(input_tuple)\n",
    "    return max_value, min_value\n",
    "\n",
    "\n",
    "input_tuple = (1,2,3,4,5,100,55,67,89,34,1987)\n",
    "max_val, min_val = find_max_min(input_tuple)\n",
    "print(f\"Maximum value: {max_val}, Minimum value: {min_val}\")"
   ]
  },
  {
   "cell_type": "code",
   "execution_count": null,
   "id": "c4adfaea-b25c-436f-ad68-e333fdfeacac",
   "metadata": {},
   "outputs": [],
   "source": []
  },
  {
   "cell_type": "code",
   "execution_count": 39,
   "id": "8e16aac5-78bd-471b-8c6c-321cc5bf31ec",
   "metadata": {},
   "outputs": [
    {
     "name": "stdout",
     "output_type": "stream",
     "text": [
      "Union of sets: {1, 2, 3, 4, 37, 6, 8, 9, 40, 15}\n",
      "Intersection of sets: {1, 3, 4}\n",
      "Difference of sets: {2, 37, 15}\n"
     ]
    }
   ],
   "source": [
    "#28 Create a code that defines two sets of integers.Then,print the union,intersection and difference of these two sets.\n",
    "\n",
    "set1 = {1,2,3,4,15,37}\n",
    "set2 = {1,3,4,6,8,9,40}\n",
    "\n",
    "print(\"Union of sets:\",set1|set2)\n",
    "print(\"Intersection of sets:\",set1&set2)\n",
    "print(\"Difference of sets:\",set1-set2)"
   ]
  },
  {
   "cell_type": "code",
   "execution_count": null,
   "id": "fb94e2cb-d6fa-4ed2-bf61-8a5af2153972",
   "metadata": {},
   "outputs": [],
   "source": []
  },
  {
   "cell_type": "code",
   "execution_count": 40,
   "id": "c056d674-3863-4460-adea-763c490d7974",
   "metadata": {},
   "outputs": [
    {
     "name": "stdout",
     "output_type": "stream",
     "text": [
      "The element 9 occurs 5 times in tup\n"
     ]
    }
   ],
   "source": [
    "#29 Write a code that takes a tuple and an element as input.The function should return the count of occurrence of the given elements in the tuple\n",
    "\n",
    "def count_occurrence(tup,ele):\n",
    "    return tup.count(ele)\n",
    "\n",
    "tup = (1,2,3,5,7,8,9,2,1,4,5,6,7,8,9,9,9,9,4,4,4,33,3,3,2,1,2,5,6,7,8)\n",
    "ele = 9\n",
    "occurrence = count_occurrence(tup,ele)\n",
    "print(f\"The element {ele} occurs {occurrence} times in tup\")"
   ]
  },
  {
   "cell_type": "code",
   "execution_count": null,
   "id": "bb70cd8a-5cb3-4799-8adc-d8cf6985d684",
   "metadata": {},
   "outputs": [],
   "source": []
  },
  {
   "cell_type": "code",
   "execution_count": 41,
   "id": "d82cf207-6178-4fab-adc4-6ee493528a3e",
   "metadata": {},
   "outputs": [
    {
     "name": "stdin",
     "output_type": "stream",
     "text": [
      "Enter the first set of strings separated by commas:  aadarsh,pooja,hitesh,raj,vishal\n",
      "Enter the second set of strings separated by commas:  hitesh,raj,vishal\n"
     ]
    },
    {
     "name": "stdout",
     "output_type": "stream",
     "text": [
      "The symmetric difference of the two sets is: {'aadarsh', 'pooja'}\n"
     ]
    }
   ],
   "source": [
    "#30 Develop a code that prompts the user to input two sets of strings.Then,print the symmetric difference of these two sets\n",
    "\n",
    "def get_set_from_input(prompt):\n",
    "    input_str = input(prompt)\n",
    "    input_list = [item.strip() for item in input_str.split(',')]\n",
    "    return set(input_list)\n",
    "\n",
    "def main():\n",
    "    set1 = get_set_from_input(\"Enter the first set of strings separated by commas: \")\n",
    "    set2 = get_set_from_input(\"Enter the second set of strings separated by commas: \")\n",
    "    symmetric_difference_set = set1 ^ set2\n",
    "    print(\"The symmetric difference of the two sets is:\", symmetric_difference_set)\n",
    "main()"
   ]
  },
  {
   "cell_type": "code",
   "execution_count": null,
   "id": "eb1dbf38-6606-49f0-b093-a01c267f7366",
   "metadata": {},
   "outputs": [],
   "source": []
  },
  {
   "cell_type": "code",
   "execution_count": 42,
   "id": "40e6f3ea-9790-4fe4-b895-edd41d8a310c",
   "metadata": {},
   "outputs": [
    {
     "name": "stdin",
     "output_type": "stream",
     "text": [
      "Enter a list of words separated by commas:  Aadarsh,Hitesh,Aadarsh,Pooja,Pooja,Raj,Hitesh,Pooja\n"
     ]
    },
    {
     "name": "stdout",
     "output_type": "stream",
     "text": [
      "Merged dictionary: {'Aadarsh': 2, 'Hitesh': 2, 'Pooja': 3, 'Raj': 1}\n"
     ]
    }
   ],
   "source": [
    "#31 Write a code that takes a list of words as input and merges them into a single dictionary. If there are comman keys,the values should be added together.\n",
    "\n",
    "def merge_words_to_dict(word_list):\n",
    "    word_dict = {}\n",
    "    \n",
    "    for word in word_list:\n",
    "        if word in word_dict:\n",
    "            word_dict[word] += 1\n",
    "        else:\n",
    "            word_dict[word] = 1\n",
    "    \n",
    "    return word_dict\n",
    "\n",
    "# Example \n",
    "input_list = input(\"Enter a list of words separated by commas: \").split(',')\n",
    "input_list = [word.strip() for word in input_list]\n",
    "result_dict = merge_words_to_dict(input_list)\n",
    "print(\"Merged dictionary:\", result_dict)"
   ]
  },
  {
   "cell_type": "code",
   "execution_count": null,
   "id": "c31c3691-ba44-4502-935f-130b786e1a1f",
   "metadata": {},
   "outputs": [],
   "source": []
  },
  {
   "cell_type": "code",
   "execution_count": 44,
   "id": "295e719e-222d-407d-8a90-6ba4691f52c9",
   "metadata": {},
   "outputs": [
    {
     "name": "stdin",
     "output_type": "stream",
     "text": [
      "Enter the first dictionary (e.g., {'a': 1, 'b': 2}):  {'a': 1, 'b': 2}\n",
      "Enter the second dictionary (e.g., {'b': 3, 'c': 4}):  {'b': 3, 'c': 4}\n"
     ]
    },
    {
     "name": "stdout",
     "output_type": "stream",
     "text": [
      "Merged dictionary: {'a': [1], 'b': [2, 3], 'c': [4]}\n"
     ]
    }
   ],
   "source": [
    "#32 Write a code that takes two dictionaries as input and merges them into a single dictionary,If there are common keys , the value should be together.\n",
    "\n",
    "def merge_dicts(dict1, dict2):\n",
    "    merged_dict = {}\n",
    "    for key, value in dict1.items():\n",
    "        if key in merged_dict:\n",
    "            merged_dict[key].append(value)\n",
    "        else:\n",
    "            merged_dict[key] = [value]\n",
    "    \n",
    "    for key, value in dict2.items():\n",
    "        if key in merged_dict:\n",
    "            merged_dict[key].append(value)\n",
    "        else:\n",
    "            merged_dict[key] = [value]\n",
    "    \n",
    "    return merged_dict\n",
    "\n",
    "# Example\n",
    "dict1 = eval(input(\"Enter the first dictionary (e.g., {'a': 1, 'b': 2}): \"))\n",
    "dict2 = eval(input(\"Enter the second dictionary (e.g., {'b': 3, 'c': 4}): \"))\n",
    "\n",
    "result_dict = merge_dicts(dict1, dict2)\n",
    "print(\"Merged dictionary:\", result_dict)\n"
   ]
  },
  {
   "cell_type": "code",
   "execution_count": null,
   "id": "9296bf3a-0d28-4a44-9daf-79b52df76f9a",
   "metadata": {},
   "outputs": [],
   "source": []
  },
  {
   "cell_type": "code",
   "execution_count": 46,
   "id": "b83c3805-bd70-4acb-a042-c91d48ad09fc",
   "metadata": {},
   "outputs": [
    {
     "name": "stdout",
     "output_type": "stream",
     "text": [
      "The value at the nested keys ['a', 'b', 'c'] is: 42\n",
      "The value at the nested keys ['a', 'b', 'x'] is: None\n"
     ]
    }
   ],
   "source": [
    "#33 Write a code to access a value in a nested dictionary.The fuunction should take the dictionary and a list of keys as input and return the corresponding value.\n",
    "#If any of the keys do not exist in the dictionary , the fuunction should return None.\n",
    "\n",
    "def get_nested_value(dictionary, keys):\n",
    "    current_value = dictionary\n",
    "    for key in keys:\n",
    "        if isinstance(current_value, dict) and key in current_value:\n",
    "            current_value = current_value[key]\n",
    "        else:\n",
    "            return None\n",
    "    return current_value\n",
    "\n",
    "# Example:-\n",
    "nested_dict = {\n",
    "    'a': {\n",
    "        'b': {\n",
    "            'c': 42\n",
    "        }\n",
    "    }\n",
    "}\n",
    "\n",
    "keys = ['a', 'b', 'c']\n",
    "result = get_nested_value(nested_dict, keys)\n",
    "print(f\"The value at the nested keys {keys} is: {result}\")\n",
    "\n",
    "keys = ['a', 'b', 'x']\n",
    "result = get_nested_value(nested_dict, keys)\n",
    "print(f\"The value at the nested keys {keys} is: {result}\")\n"
   ]
  },
  {
   "cell_type": "code",
   "execution_count": null,
   "id": "4ebc2287-32fc-4eee-b6af-e80b03525572",
   "metadata": {},
   "outputs": [],
   "source": []
  }
 ],
 "metadata": {
  "kernelspec": {
   "display_name": "Python 3 (ipykernel)",
   "language": "python",
   "name": "python3"
  },
  "language_info": {
   "codemirror_mode": {
    "name": "ipython",
    "version": 3
   },
   "file_extension": ".py",
   "mimetype": "text/x-python",
   "name": "python",
   "nbconvert_exporter": "python",
   "pygments_lexer": "ipython3",
   "version": "3.10.8"
  }
 },
 "nbformat": 4,
 "nbformat_minor": 5
}
